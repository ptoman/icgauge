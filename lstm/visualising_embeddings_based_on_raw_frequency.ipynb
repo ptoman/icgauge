{
 "cells": [
  {
   "cell_type": "code",
   "execution_count": 1,
   "metadata": {
    "collapsed": true
   },
   "outputs": [],
   "source": [
    "__author__ = \"Pujun Bhatnagar\"\n",
    "__version__ = \"Stanford, Spring 2016\""
   ]
  },
  {
   "cell_type": "code",
   "execution_count": 2,
   "metadata": {
    "collapsed": false
   },
   "outputs": [],
   "source": [
    "%matplotlib inline\n",
    "\n",
    "import matplotlib\n",
    "import numpy as np\n",
    "import matplotlib.pyplot as plt\n",
    "\n",
    "\n",
    "from __future__ import division, print_function, absolute_import\n",
    "import json\n",
    "from pprint import pprint\n",
    "import pickle\n",
    "import tflearn\n",
    "from tflearn.data_utils import to_categorical, pad_sequences\n",
    "from tflearn.datasets import imdb\n",
    "import nltk\n",
    "from nltk.tokenize import word_tokenize, sent_tokenize\n",
    "import math\n",
    "import csv\n",
    "import numpy as np\n",
    "import openpyxl as px\n",
    "import numpy as np\n",
    "\n",
    "import os\n",
    "import sys\n",
    "import csv\n",
    "import random\n",
    "import itertools\n",
    "from operator import itemgetter\n",
    "from collections import defaultdict\n",
    "import numpy as np\n",
    "import scipy\n",
    "import scipy.spatial.distance\n",
    "from numpy.linalg import svd\n",
    "from sklearn.decomposition import PCA\n",
    "from sklearn.manifold import TSNE\n",
    "import utils\n"
   ]
  },
  {
   "cell_type": "code",
   "execution_count": 3,
   "metadata": {
    "collapsed": false
   },
   "outputs": [
    {
     "data": {
      "text/plain": [
       "24318"
      ]
     },
     "execution_count": 3,
     "metadata": {},
     "output_type": "execute_result"
    }
   ],
   "source": [
    "# load the original model to make sure that the tensorflow model is loaded properly\n",
    "import pickle\n",
    "lstm_vocab = pickle.load(open('/home/pujun/Desktop/StanfordClasses/icgauge/data/lstm_vocab', 'rb'))\n",
    "lstm_vocab_list = lstm_vocab.items()\n",
    "lstm_vocab_list = sorted(lstm_vocab_list, key=lambda tup: tup[1])\n",
    "len(lstm_vocab_list)\n"
   ]
  },
  {
   "cell_type": "code",
   "execution_count": 4,
   "metadata": {
    "collapsed": true
   },
   "outputs": [],
   "source": [
    "# initialize the parts of the tensorflow model to reload all the weights\n",
    "num_words_in_longest_sentence = 512\n",
    "word_count = len(lstm_vocab_list) + 1\n",
    "layer_input = tflearn.input_data([None, num_words_in_longest_sentence])\n",
    "embedding = tflearn.embedding(layer_input, input_dim=word_count, output_dim=128)\n",
    "lstm = tflearn.lstm(embedding, 128)\n",
    "dropout = tflearn.dropout(lstm, 0.5)\n",
    "softmax = tflearn.fully_connected(dropout, 2, activation='softmax')\n",
    "net = tflearn.regression(softmax, optimizer='adam',\n",
    "                       loss='categorical_crossentropy')"
   ]
  },
  {
   "cell_type": "code",
   "execution_count": 5,
   "metadata": {
    "collapsed": false
   },
   "outputs": [],
   "source": [
    "# define the model\n",
    "model = tflearn.DNN(softmax)"
   ]
  },
  {
   "cell_type": "code",
   "execution_count": 6,
   "metadata": {
    "collapsed": false
   },
   "outputs": [],
   "source": [
    "model.load(\"/home/pujun/Desktop/StanfordClasses/icgauge/data/LSTM_models/SNLI_SICK_custom_embedding/SNLI_SICK_custom_embedding\")\n"
   ]
  },
  {
   "cell_type": "code",
   "execution_count": 7,
   "metadata": {
    "collapsed": true
   },
   "outputs": [],
   "source": [
    "embedding_var = tflearn.get_layer_variables_by_name('Embedding')[0]"
   ]
  },
  {
   "cell_type": "code",
   "execution_count": 8,
   "metadata": {
    "collapsed": false
   },
   "outputs": [
    {
     "data": {
      "text/plain": [
       "tensorflow.python.ops.variables.Variable"
      ]
     },
     "execution_count": 8,
     "metadata": {},
     "output_type": "execute_result"
    }
   ],
   "source": [
    "type(embedding_var)"
   ]
  },
  {
   "cell_type": "code",
   "execution_count": 9,
   "metadata": {
    "collapsed": false
   },
   "outputs": [],
   "source": [
    "mat = model.get_weights(embedding_var)"
   ]
  },
  {
   "cell_type": "code",
   "execution_count": 10,
   "metadata": {
    "collapsed": false
   },
   "outputs": [
    {
     "data": {
      "text/plain": [
       "(24319, 128)"
      ]
     },
     "execution_count": 10,
     "metadata": {},
     "output_type": "execute_result"
    }
   ],
   "source": [
    "# this matrix contains all the embedding representations\n",
    "mat.shape"
   ]
  },
  {
   "cell_type": "code",
   "execution_count": 11,
   "metadata": {
    "collapsed": false
   },
   "outputs": [],
   "source": [
    "# let's load up the pickel that contains the top 1435 words --> (their assigned index, number of times they have occured)\n",
    "lstm_vocab = pickle.load(open('/home/pujun/Desktop/StanfordClasses/icgauge/lstm/lstm_vocab_169.4890616', 'rb'))\n",
    "lstm_vocab_list = lstm_vocab.items()\n",
    "lstm_vocab_list = sorted(lstm_vocab_list, key=lambda tup: tup[1][0])\n",
    "word_count = len(lstm_vocab_list)\n"
   ]
  },
  {
   "cell_type": "code",
   "execution_count": 12,
   "metadata": {
    "collapsed": false
   },
   "outputs": [],
   "source": [
    "# since now we only want to consider the first 1435 words, we make a np.array in which we will dump the embeddings\n",
    "filtered_mat = np.random.rand(word_count, 128)\n",
    "count = 0\n",
    "for _,i in lstm_vocab.items():\n",
    "    filtered_mat[count] = mat[i[0]]\n",
    "    count += 1"
   ]
  },
  {
   "cell_type": "code",
   "execution_count": 13,
   "metadata": {
    "collapsed": false
   },
   "outputs": [
    {
     "name": "stdout",
     "output_type": "stream",
     "text": [
      "Max frequency: 505734 and Min frequency: 170\n"
     ]
    }
   ],
   "source": [
    "# since we want to color the words based on the frequency of of their occurance\n",
    "\n",
    "# make a list containing the frequencies of these words\n",
    "frequency_val = [val[1] for key, val in lstm_vocab_list]\n",
    "\n",
    "# figure out the maximum and the minimum val\n",
    "maximum_frequency = np.max(frequency_val) + 0.1\n",
    "minimum_frequency = np.min(frequency_val) \n",
    "\n",
    "print(\"Max frequency: %d and Min frequency: %d\" % (maximum_frequency, minimum_frequency))"
   ]
  },
  {
   "cell_type": "code",
   "execution_count": 14,
   "metadata": {
    "collapsed": false
   },
   "outputs": [],
   "source": [
    "# Could not think of a better coloring technique so decided to go with VIBGYOR\n",
    "color_pallette = ['violet', 'indigo', 'blue', 'green', 'yellow', 'orange', 'red']\n",
    "\n",
    "# since we want to split the frequency into 7 equal buckets, we calculate the dividor that we will need to divide by to get those color codings\n",
    "dividor = (maximum_frequency - minimum_frequency) / (len(color_pallette))\n",
    "\n",
    "# figure out the actual colors\n",
    "colors = [color_pallette[int((i - minimum_frequency)/dividor)] for i in frequency_val]"
   ]
  },
  {
   "cell_type": "code",
   "execution_count": null,
   "metadata": {
    "collapsed": true
   },
   "outputs": [],
   "source": [
    "# check for the number of components. If the matrix representation is high, then just do the lower one\n",
    "n_components = 50 if filtered_mat.shape[1] >= 50 else filtered_mat.shape[1]"
   ]
  },
  {
   "cell_type": "code",
   "execution_count": null,
   "metadata": {
    "collapsed": false
   },
   "outputs": [],
   "source": [
    "dimreduce = PCA(n_components=n_components)"
   ]
  },
  {
   "cell_type": "code",
   "execution_count": null,
   "metadata": {
    "collapsed": true
   },
   "outputs": [],
   "source": [
    "filtered_mat = dimreduce.fit_transform(filtered_mat)"
   ]
  },
  {
   "cell_type": "code",
   "execution_count": null,
   "metadata": {
    "collapsed": false
   },
   "outputs": [],
   "source": [
    "filtered_mat.shape"
   ]
  },
  {
   "cell_type": "code",
   "execution_count": null,
   "metadata": {
    "collapsed": true
   },
   "outputs": [],
   "source": [
    "tsne = TSNE(n_components=2, random_state=0)\n",
    "np.set_printoptions(suppress=True) "
   ]
  },
  {
   "cell_type": "code",
   "execution_count": null,
   "metadata": {
    "collapsed": false
   },
   "outputs": [],
   "source": [
    "tsnemat = tsne.fit_transform(filtered_mat)"
   ]
  },
  {
   "cell_type": "code",
   "execution_count": null,
   "metadata": {
    "collapsed": false
   },
   "outputs": [],
   "source": [
    "# tsnemat = pickle.load(open('/home/pujun/Desktop/StanfordClasses/icgauge/data/tsnemat.p', 'rb'))\n",
    "print(tsnemat.shape)"
   ]
  },
  {
   "cell_type": "code",
   "execution_count": null,
   "metadata": {
    "collapsed": false
   },
   "outputs": [],
   "source": [
    "rownames = lstm_vocab_list\n",
    "rownames = [w for w, v in lstm_vocab_list]"
   ]
  },
  {
   "cell_type": "code",
   "execution_count": null,
   "metadata": {
    "collapsed": false
   },
   "outputs": [],
   "source": [
    "indices = list(range(len(rownames)))\n",
    "print(len(indices))"
   ]
  },
  {
   "cell_type": "code",
   "execution_count": null,
   "metadata": {
    "collapsed": false
   },
   "outputs": [],
   "source": [
    "vocab = np.array(rownames)[indices]\n",
    "xvals = tsnemat[indices, 0] \n",
    "yvals = tsnemat[indices, 1]\n",
    "# Plotting:\n",
    "fig, ax = plt.subplots(nrows=1, ncols=1)\n",
    "fig.set_figheight(40)\n",
    "fig.set_figwidth(50)\n",
    "ax.plot(xvals, yvals, marker='', linestyle='')\n",
    "# Text labels:\n",
    "for word, x, y, color in zip(vocab, xvals, yvals, colors):\n",
    "    ax.annotate(word, (x, y), fontsize=8, color=color)\n",
    "\n",
    "plt.show()"
   ]
  },
  {
   "cell_type": "code",
   "execution_count": null,
   "metadata": {
    "collapsed": true
   },
   "outputs": [],
   "source": []
  }
 ],
 "metadata": {
  "kernelspec": {
   "display_name": "Python 2",
   "language": "python",
   "name": "python2"
  },
  "language_info": {
   "codemirror_mode": {
    "name": "ipython",
    "version": 2
   },
   "file_extension": ".py",
   "mimetype": "text/x-python",
   "name": "python",
   "nbconvert_exporter": "python",
   "pygments_lexer": "ipython2",
   "version": "2.7.11"
  }
 },
 "nbformat": 4,
 "nbformat_minor": 0
}
