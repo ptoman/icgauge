{
 "cells": [
  {
   "cell_type": "markdown",
   "metadata": {},
   "source": [
    " # Installation\n",
    "execute the following to install the requirements:\n",
    "\n",
    "## Ubuntu/Linux 64-bit\n",
    " sudo apt-get install python-pip python-dev\n",
    "\n",
    "## Mac OS X\n",
    "sudo easy_install pip\n",
    "\n",
    "# Ubuntu/Linux 64-bit, CPU only:\n",
    " sudo pip install --upgrade https://storage.googleapis.com/tensorflow/linux/cpu/tensorflow-0.8.0-cp27-none-linux_x86_64.whl\n",
    "\n",
    "## Ubuntu/Linux 64-bit, GPU enabled. Requires CUDA toolkit 7.5 and CuDNN v4.  For\n",
    " other versions, see \"Install from sources\" below.\n",
    " sudo pip install --upgrade https://storage.googleapis.com/tensorflow/linux/gpu/tensorflow-0.8.0-cp27-none-linux_x86_64.whl\n",
    "\n",
    "# Mac OS X, CPU only:\n",
    " sudo easy_install --upgrade six\n",
    " sudo pip install --upgrade https://storage.googleapis.com/tensorflow/mac/tensorflow-0.8.0-py2-none-any.whl\n",
    " \n",
    " pip install git+https://github.com/tflearn/tflearn.git"
   ]
  },
  {
   "cell_type": "code",
   "execution_count": 1,
   "metadata": {
    "collapsed": true
   },
   "outputs": [],
   "source": [
    "from __future__ import division, print_function, absolute_import\n",
    "import json\n",
    "from pprint import pprint\n",
    "import pickle\n",
    "import tflearn\n",
    "from tflearn.data_utils import to_categorical, pad_sequences\n",
    "from tflearn.datasets import imdb\n",
    "import nltk\n",
    "from nltk.tokenize import word_tokenize, sent_tokenize\n",
    "import math"
   ]
  },
  {
   "cell_type": "code",
   "execution_count": null,
   "metadata": {
    "collapsed": true
   },
   "outputs": [],
   "source": [
    "# setting the paths\n",
    "percentage_split = .7"
   ]
  },
  {
   "cell_type": "code",
   "execution_count": 2,
   "metadata": {
    "collapsed": false
   },
   "outputs": [],
   "source": [
    "vocab = {}\n",
    "word_count = 1\n",
    "\n",
    "def parse_data(json_data):\n",
    "    global word_count\n",
    "    \n",
    "    X = []\n",
    "    Y = []\n",
    "    for d in json_data:\n",
    "        current_attribute_list = []\n",
    "        words = tokenized_and_lowercase = word_tokenize(d['example'].lower())\n",
    "        for w in words:\n",
    "            if w not in vocab:\n",
    "                vocab[w] = word_count\n",
    "                word_count += 1\n",
    "            current_attribute_list.append(vocab[w])\n",
    "        X.append(current_attribute_list)\n",
    "        Y.append(d['label'])\n",
    "\n",
    "    return (X, Y)"
   ]
  },
  {
   "cell_type": "code",
   "execution_count": 3,
   "metadata": {
    "collapsed": false
   },
   "outputs": [],
   "source": [
    "data = []\n",
    "with open(filepath) as f:\n",
    "    for line in f:\n",
    "        data.append(json.loads(line))\n",
    "    X, Y = parse_data(data)"
   ]
  },
  {
   "cell_type": "code",
   "execution_count": 4,
   "metadata": {
    "collapsed": false
   },
   "outputs": [
    {
     "name": "stdout",
     "output_type": "stream",
     "text": [
      "Number of examples: 380226\n",
      "Number of distinct words: 24257\n"
     ]
    }
   ],
   "source": [
    "print(\"Number of examples:\", len(X))\n",
    "print(\"Number of distinct words:\", word_count)"
   ]
  },
  {
   "cell_type": "code",
   "execution_count": 5,
   "metadata": {
    "collapsed": true
   },
   "outputs": [],
   "source": [
    "\n",
    "with open('SNLIdata','w') as f:\n",
    "    pickle.dump(data,f)"
   ]
  },
  {
   "cell_type": "code",
   "execution_count": 6,
   "metadata": {
    "collapsed": true
   },
   "outputs": [],
   "source": [
    "data_length_list = [len(eg) for eg in X]\n",
    "num_words_in_longest_sentence = max(data_length_list)"
   ]
  },
  {
   "cell_type": "code",
   "execution_count": 7,
   "metadata": {
    "collapsed": false
   },
   "outputs": [
    {
     "name": "stdout",
     "output_type": "stream",
     "text": [
      "Length of the biggest sentence: 82\n"
     ]
    }
   ],
   "source": [
    "print(\"Length of the biggest sentence:\", num_words_in_longest_sentence)"
   ]
  },
  {
   "cell_type": "code",
   "execution_count": 11,
   "metadata": {
    "collapsed": false
   },
   "outputs": [
    {
     "name": "stdout",
     "output_type": "stream",
     "text": [
      "266159\n"
     ]
    }
   ],
   "source": [
    "num_training_examples = int(math.ceil(len(X) * percentage_split))\n",
    "print(num_training_examples)\n",
    "trainX = X[:num_training_examples]\n",
    "trainY = Y[:num_training_examples]\n",
    "\n",
    "testX = X[num_training_examples:]\n",
    "testY = Y[num_training_examples:]"
   ]
  },
  {
   "cell_type": "code",
   "execution_count": 12,
   "metadata": {
    "collapsed": false
   },
   "outputs": [],
   "source": [
    "# Data preprocessing\n",
    "# Sequence padding \n",
    "trainX = pad_sequences(trainX, maxlen=num_words_in_longest_sentence, value=0.)\n",
    "testX = pad_sequences(testX, maxlen=num_words_in_longest_sentence, value=0.)\n",
    "\n",
    "# Converting labels to binary vectors\n",
    "trainY = to_categorical(trainY, nb_classes=2)\n",
    "testY = to_categorical(testY, nb_classes=2)\n"
   ]
  },
  {
   "cell_type": "code",
   "execution_count": 13,
   "metadata": {
    "collapsed": true
   },
   "outputs": [],
   "source": [
    "# Network building\n",
    "net = tflearn.input_data([None, num_words_in_longest_sentence])\n",
    "net = tflearn.embedding(net, input_dim=word_count, output_dim=128)\n",
    "net = tflearn.lstm(net, 128)\n",
    "net = tflearn.dropout(net, 0.5)\n",
    "net = tflearn.fully_connected(net, 2, activation='softmax')\n",
    "net = tflearn.regression(net, optimizer='adam',\n",
    "                         loss='categorical_crossentropy')"
   ]
  },
  {
   "cell_type": "code",
   "execution_count": null,
   "metadata": {
    "collapsed": false
   },
   "outputs": [
    {
     "name": "stdout",
     "output_type": "stream",
     "text": [
      "Training Step: 3884  | total loss: \u001b[1m\u001b[32m0.28453\u001b[0m\u001b[0m\n",
      "\u001b[2K\r",
      "| Adam | epoch: 001 | loss: 0.28453 - acc: 0.8805 -- iter: 230912/266159\n"
     ]
    }
   ],
   "source": [
    "# Training\n",
    "model = tflearn.DNN(net, clip_gradients=0., tensorboard_verbose=0)\n",
    "model.fit(trainX, trainY, validation_set=(testX, testY), show_metric=True,\n",
    "          batch_size=128)"
   ]
  },
  {
   "cell_type": "code",
   "execution_count": null,
   "metadata": {
    "collapsed": true
   },
   "outputs": [],
   "source": []
  }
 ],
 "metadata": {
  "kernelspec": {
   "display_name": "Python 2",
   "language": "python",
   "name": "python2"
  },
  "language_info": {
   "codemirror_mode": {
    "name": "ipython",
    "version": 2
   },
   "file_extension": ".py",
   "mimetype": "text/x-python",
   "name": "python",
   "nbconvert_exporter": "python",
   "pygments_lexer": "ipython2",
   "version": "2.7.11"
  }
 },
 "nbformat": 4,
 "nbformat_minor": 0
}
